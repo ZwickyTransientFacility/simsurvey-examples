{
 "cells": [
  {
   "cell_type": "markdown",
   "metadata": {},
   "source": [
    "# Simulating lightcurves of lensed SNe Ia"
   ]
  },
  {
   "cell_type": "markdown",
   "metadata": {},
   "source": [
    "This example requires the development version of simurvey found in this feature branch:\n",
    "https://github.com/ufeindt/simsurvey/tree/feature/manipulate-transient-parameters\n",
    "\n",
    "The changes there allow easy manipulation of the transient parameters, e.g. to change the amplitude based on lens magnification or duplicate a transient and shift its RA, Dec and $t_0$ slightly to simulate multiple images."
   ]
  },
  {
   "cell_type": "code",
   "execution_count": 1,
   "metadata": {},
   "outputs": [],
   "source": [
    "import os\n",
    "home_dir = os.environ.get('HOME')\n",
    "\n",
    "# Please enter the path to where you have placed the Schlegel, Finkbeiner & Davis (1998) dust map files\n",
    "# You can also set the environment variable SFD_DIR to this path (in that case the variable below should be None)\n",
    "sfd98_dir = os.path.join(home_dir, 'data/sfd98')"
   ]
  },
  {
   "cell_type": "code",
   "execution_count": 2,
   "metadata": {},
   "outputs": [],
   "source": [
    "import numpy as np\n",
    "import matplotlib.pyplot as plt\n",
    "%matplotlib inline\n",
    "\n",
    "from astropy.cosmology import Planck15\n",
    "import simsurvey\n",
    "import sncosmo\n",
    "import simsurvey_tools as sst"
   ]
  },
  {
   "cell_type": "code",
   "execution_count": 3,
   "metadata": {},
   "outputs": [
    {
     "data": {
      "text/plain": [
       "'0.7.0.dev3'"
      ]
     },
     "execution_count": 3,
     "metadata": {},
     "output_type": "execute_result"
    }
   ],
   "source": [
    "simsurvey.__version__"
   ]
  },
  {
   "cell_type": "code",
   "execution_count": 4,
   "metadata": {},
   "outputs": [
    {
     "data": {
      "text/plain": [
       "['/home/ufeindt/anaconda3/envs/simsurvey-dev/lib/python3.7/site-packages/simsurvey-0.7.0.dev3-py3.7.egg/simsurvey']"
      ]
     },
     "execution_count": 4,
     "metadata": {},
     "output_type": "execute_result"
    }
   ],
   "source": [
    "simsurvey.__path__"
   ]
  },
  {
   "cell_type": "code",
   "execution_count": 5,
   "metadata": {},
   "outputs": [],
   "source": [
    "fields = sst.load_ztf_fields()"
   ]
  },
  {
   "cell_type": "code",
   "execution_count": 6,
   "metadata": {},
   "outputs": [
    {
     "data": {
      "text/plain": [
       "(274.7095, 33.35)"
      ]
     },
     "execution_count": 6,
     "metadata": {},
     "output_type": "execute_result"
    }
   ],
   "source": [
    "fields['ra'][682], fields['dec'][682]"
   ]
  },
  {
   "cell_type": "code",
   "execution_count": 7,
   "metadata": {},
   "outputs": [],
   "source": [
    "# Load the CCD corners from file\n",
    "ccd_corners = np.genfromtxt('data/ztf_quadrants.tbl', skip_header=1)\n",
    "ccds = [ccd_corners[np.array([0,1,2,3])+4*k, :2] for k in range(64)]"
   ]
  },
  {
   "cell_type": "code",
   "execution_count": 8,
   "metadata": {},
   "outputs": [],
   "source": [
    "bands = { \n",
    "  'ztfr' : 'data/ztfr_eff.txt',\n",
    "  'ztfg' : 'data/ztfg_eff.txt',\n",
    "  'ztfi' : 'data/ztfi_eff.txt',\n",
    "  }\n",
    "\n",
    "for bandname in bands.keys() :\n",
    "    fname = bands[bandname]\n",
    "    b = np.loadtxt(fname)\n",
    "    band = sncosmo.Bandpass(b[:,0], b[:,1], name=bandname)\n",
    "    sncosmo.registry.register(band, force=True)"
   ]
  },
  {
   "cell_type": "code",
   "execution_count": 9,
   "metadata": {},
   "outputs": [],
   "source": [
    "obs = {'time': [], 'field': [], 'band': [], 'skynoise': [], 'comment': [], 'zp': []}\n",
    "\n",
    "mjd_start = 58239.5\n",
    "for k in range(0, 61, 3):\n",
    "    obs['time'].extend([mjd_start + k + l/24. for l in range(2)])\n",
    "    obs['field'].extend([683 for l in range(2)])\n",
    "    obs['band'].extend(['ztfg', 'ztfr'])\n",
    "    obs['skynoise'].extend([1262 for l in range(2)])\n",
    "    obs['zp'].extend([30 for l in range(2)])\n",
    "    obs['comment'].extend(['MSIP', 'MSIP'])\n",
    "    \n",
    "#for k in range(61):\n",
    "#    obs['time'].extend([mjd_start + k + (l+2)/24. for l in range(3)])\n",
    "#    obs['field'].extend([686 for l in range(3)])\n",
    "#    obs['band'].extend(['ztfg', 'ztfg', 'ztfg'])\n",
    "#    obs['skynoise'].extend([1262 for l in range(3)])\n",
    "#    obs['zp'].extend([30 for l in range(3)])\n",
    "#    obs['comment'].extend(['fast-g', 'fast-g', 'fast-g'])    \n",
    "     \n",
    "plan = simsurvey.SurveyPlan(time=obs['time'], band=obs['band'], obs_field=obs['field'],\n",
    "                            skynoise=obs['skynoise'], comment=obs['comment'],\n",
    "                            zp=obs['zp'],\n",
    "                            fields={k: v for k, v in fields.items()\n",
    "                                    if k in ['ra', 'dec', 'field_id',\n",
    "                                            'width', 'height']},\n",
    "                            ccds=ccds)"
   ]
  },
  {
   "cell_type": "code",
   "execution_count": 10,
   "metadata": {},
   "outputs": [
    {
     "data": {
      "text/html": [
       "<i>Table length=42</i>\n",
       "<table id=\"table139882485229392\" class=\"table-striped table-bordered table-condensed\">\n",
       "<thead><tr><th>time</th><th>band</th><th>zp</th><th>skynoise</th><th>RA</th><th>Dec</th><th>field</th><th>ccd</th><th>comment</th></tr></thead>\n",
       "<thead><tr><th>float64</th><th>str4</th><th>int64</th><th>int64</th><th>float64</th><th>float64</th><th>int64</th><th>float64</th><th>str4</th></tr></thead>\n",
       "<tr><td>58239.5</td><td>ztfg</td><td>30</td><td>1262</td><td>274.7095</td><td>33.35</td><td>683</td><td>nan</td><td>MSIP</td></tr>\n",
       "<tr><td>58239.541666666664</td><td>ztfr</td><td>30</td><td>1262</td><td>274.7095</td><td>33.35</td><td>683</td><td>nan</td><td>MSIP</td></tr>\n",
       "<tr><td>58242.5</td><td>ztfg</td><td>30</td><td>1262</td><td>274.7095</td><td>33.35</td><td>683</td><td>nan</td><td>MSIP</td></tr>\n",
       "<tr><td>58242.541666666664</td><td>ztfr</td><td>30</td><td>1262</td><td>274.7095</td><td>33.35</td><td>683</td><td>nan</td><td>MSIP</td></tr>\n",
       "<tr><td>58245.5</td><td>ztfg</td><td>30</td><td>1262</td><td>274.7095</td><td>33.35</td><td>683</td><td>nan</td><td>MSIP</td></tr>\n",
       "<tr><td>58245.541666666664</td><td>ztfr</td><td>30</td><td>1262</td><td>274.7095</td><td>33.35</td><td>683</td><td>nan</td><td>MSIP</td></tr>\n",
       "<tr><td>58248.5</td><td>ztfg</td><td>30</td><td>1262</td><td>274.7095</td><td>33.35</td><td>683</td><td>nan</td><td>MSIP</td></tr>\n",
       "<tr><td>58248.541666666664</td><td>ztfr</td><td>30</td><td>1262</td><td>274.7095</td><td>33.35</td><td>683</td><td>nan</td><td>MSIP</td></tr>\n",
       "<tr><td>58251.5</td><td>ztfg</td><td>30</td><td>1262</td><td>274.7095</td><td>33.35</td><td>683</td><td>nan</td><td>MSIP</td></tr>\n",
       "<tr><td>58251.541666666664</td><td>ztfr</td><td>30</td><td>1262</td><td>274.7095</td><td>33.35</td><td>683</td><td>nan</td><td>MSIP</td></tr>\n",
       "<tr><td>...</td><td>...</td><td>...</td><td>...</td><td>...</td><td>...</td><td>...</td><td>...</td><td>...</td></tr>\n",
       "<tr><td>58287.5</td><td>ztfg</td><td>30</td><td>1262</td><td>274.7095</td><td>33.35</td><td>683</td><td>nan</td><td>MSIP</td></tr>\n",
       "<tr><td>58287.541666666664</td><td>ztfr</td><td>30</td><td>1262</td><td>274.7095</td><td>33.35</td><td>683</td><td>nan</td><td>MSIP</td></tr>\n",
       "<tr><td>58290.5</td><td>ztfg</td><td>30</td><td>1262</td><td>274.7095</td><td>33.35</td><td>683</td><td>nan</td><td>MSIP</td></tr>\n",
       "<tr><td>58290.541666666664</td><td>ztfr</td><td>30</td><td>1262</td><td>274.7095</td><td>33.35</td><td>683</td><td>nan</td><td>MSIP</td></tr>\n",
       "<tr><td>58293.5</td><td>ztfg</td><td>30</td><td>1262</td><td>274.7095</td><td>33.35</td><td>683</td><td>nan</td><td>MSIP</td></tr>\n",
       "<tr><td>58293.541666666664</td><td>ztfr</td><td>30</td><td>1262</td><td>274.7095</td><td>33.35</td><td>683</td><td>nan</td><td>MSIP</td></tr>\n",
       "<tr><td>58296.5</td><td>ztfg</td><td>30</td><td>1262</td><td>274.7095</td><td>33.35</td><td>683</td><td>nan</td><td>MSIP</td></tr>\n",
       "<tr><td>58296.541666666664</td><td>ztfr</td><td>30</td><td>1262</td><td>274.7095</td><td>33.35</td><td>683</td><td>nan</td><td>MSIP</td></tr>\n",
       "<tr><td>58299.5</td><td>ztfg</td><td>30</td><td>1262</td><td>274.7095</td><td>33.35</td><td>683</td><td>nan</td><td>MSIP</td></tr>\n",
       "<tr><td>58299.541666666664</td><td>ztfr</td><td>30</td><td>1262</td><td>274.7095</td><td>33.35</td><td>683</td><td>nan</td><td>MSIP</td></tr>\n",
       "</table>"
      ],
      "text/plain": [
       "<Table length=42>\n",
       "       time        band   zp  skynoise    RA      Dec   field   ccd   comment\n",
       "     float64       str4 int64  int64   float64  float64 int64 float64   str4 \n",
       "------------------ ---- ----- -------- -------- ------- ----- ------- -------\n",
       "           58239.5 ztfg    30     1262 274.7095   33.35   683     nan    MSIP\n",
       "58239.541666666664 ztfr    30     1262 274.7095   33.35   683     nan    MSIP\n",
       "           58242.5 ztfg    30     1262 274.7095   33.35   683     nan    MSIP\n",
       "58242.541666666664 ztfr    30     1262 274.7095   33.35   683     nan    MSIP\n",
       "           58245.5 ztfg    30     1262 274.7095   33.35   683     nan    MSIP\n",
       "58245.541666666664 ztfr    30     1262 274.7095   33.35   683     nan    MSIP\n",
       "           58248.5 ztfg    30     1262 274.7095   33.35   683     nan    MSIP\n",
       "58248.541666666664 ztfr    30     1262 274.7095   33.35   683     nan    MSIP\n",
       "           58251.5 ztfg    30     1262 274.7095   33.35   683     nan    MSIP\n",
       "58251.541666666664 ztfr    30     1262 274.7095   33.35   683     nan    MSIP\n",
       "               ...  ...   ...      ...      ...     ...   ...     ...     ...\n",
       "           58287.5 ztfg    30     1262 274.7095   33.35   683     nan    MSIP\n",
       "58287.541666666664 ztfr    30     1262 274.7095   33.35   683     nan    MSIP\n",
       "           58290.5 ztfg    30     1262 274.7095   33.35   683     nan    MSIP\n",
       "58290.541666666664 ztfr    30     1262 274.7095   33.35   683     nan    MSIP\n",
       "           58293.5 ztfg    30     1262 274.7095   33.35   683     nan    MSIP\n",
       "58293.541666666664 ztfr    30     1262 274.7095   33.35   683     nan    MSIP\n",
       "           58296.5 ztfg    30     1262 274.7095   33.35   683     nan    MSIP\n",
       "58296.541666666664 ztfr    30     1262 274.7095   33.35   683     nan    MSIP\n",
       "           58299.5 ztfg    30     1262 274.7095   33.35   683     nan    MSIP\n",
       "58299.541666666664 ztfr    30     1262 274.7095   33.35   683     nan    MSIP"
      ]
     },
     "execution_count": 10,
     "metadata": {},
     "output_type": "execute_result"
    }
   ],
   "source": [
    "plan.pointings"
   ]
  },
  {
   "cell_type": "code",
   "execution_count": 11,
   "metadata": {},
   "outputs": [],
   "source": [
    "mjd_range = (plan.pointings['time'].min(), plan.pointings['time'].max())\n",
    "ra_range = (270., 280.)\n",
    "dec_range = (29., 37.5)"
   ]
  },
  {
   "cell_type": "code",
   "execution_count": 12,
   "metadata": {},
   "outputs": [],
   "source": [
    "z_max = 0.1\n",
    "\n",
    "tr = simsurvey.get_transient_generator([0., z_max],\n",
    "                                       transient='Ia', \n",
    "                                       template='salt2',\n",
    "                                       ra_range=ra_range,\n",
    "                                       dec_range=dec_range,\n",
    "                                       mjd_range=[mjd_range[0],\n",
    "                                                  mjd_range[1]],\n",
    "                                       sfd98_dir=sfd98_dir,\n",
    "                                       ntransient=5)"
   ]
  },
  {
   "cell_type": "markdown",
   "metadata": {},
   "source": [
    "## New functions\n",
    "### get_lc_param()\n",
    "This function allows quick retrieval of lightcurve parameters."
   ]
  },
  {
   "cell_type": "code",
   "execution_count": 13,
   "metadata": {},
   "outputs": [
    {
     "name": "stdout",
     "output_type": "stream",
     "text": [
      "Redshifts of all SNe (for reference): [0.09803075 0.09349302 0.08174144 0.09793891 0.07799387]\n",
      "\n",
      "Retrieve 3rd SNe - tr.get_lc_param(2)\n",
      "{'z': 0.08174143625170985, 't0': 58269.91281342771, 'ra': 275.6445136065594, 'dec': 34.823454565169556, 'x0': 0.0005126631106296095, 'x1': -0.6454243486941382, 'c': 0.0069765190984302314, 'mwebv': 0.018623711078597713, 'mwebv_sfd98': 0.04544335864877227}\n"
     ]
    }
   ],
   "source": [
    "print(\"Redshifts of all SNe (for reference):\", tr.zcmb)\n",
    "print()\n",
    "print(\"Retrieve 3rd SNe - tr.get_lc_param(2)\")\n",
    "param = tr.get_lc_param(2)\n",
    "print(param)"
   ]
  },
  {
   "cell_type": "markdown",
   "metadata": {},
   "source": [
    "### remove_lc_param()\n",
    "This function removes a transient from the generator."
   ]
  },
  {
   "cell_type": "code",
   "execution_count": 14,
   "metadata": {},
   "outputs": [
    {
     "name": "stdout",
     "output_type": "stream",
     "text": [
      "Redshifts of all SNe (before): [0.09803075 0.09349302 0.08174144 0.09793891 0.07799387]\n",
      "Redshifts of all SNe (after removing the 3rd SN): [0.09803075 0.09349302 0.09793891 0.07799387]\n"
     ]
    }
   ],
   "source": [
    "print(\"Redshifts of all SNe (before):\", tr.zcmb)\n",
    "tr.remove_lc_param(2)\n",
    "print(\"Redshifts of all SNe (after removing the 3rd SN):\", tr.zcmb)"
   ]
  },
  {
   "cell_type": "markdown",
   "metadata": {},
   "source": [
    "### add_lc_param()\n",
    "This function adds a new SN. The easiest way to generate the correct input is to get a dictionary of parameters and change it."
   ]
  },
  {
   "cell_type": "code",
   "execution_count": 15,
   "metadata": {},
   "outputs": [
    {
     "name": "stdout",
     "output_type": "stream",
     "text": [
      "Redshifts of all SNe (after removing the 3rd SN): [0.09803075 0.09349302 0.09793891 0.07799387]\n",
      "Redshifts of all SNe (after re-adding the previously 3rd SN): [0.09803075 0.09349302 0.09793891 0.07799387 0.08174144]\n"
     ]
    }
   ],
   "source": [
    "print(\"Redshifts of all SNe (after removing the 3rd SN):\", tr.zcmb)\n",
    "tr.add_lc_param(**param)\n",
    "print(\"Redshifts of all SNe (after re-adding the previously 3rd SN):\", tr.zcmb)"
   ]
  },
  {
   "cell_type": "markdown",
   "metadata": {},
   "source": [
    "### pop_lc_param()\n",
    "This function combines `get_lc_param()` and `remove_lc_param()` into one step."
   ]
  },
  {
   "cell_type": "code",
   "execution_count": 16,
   "metadata": {},
   "outputs": [
    {
     "name": "stdout",
     "output_type": "stream",
     "text": [
      "Redshifts of all SNe (before): [0.09803075 0.09349302 0.09793891 0.07799387 0.08174144]\n",
      "\n",
      "Pop 3rd SNe - tr.pop_lc_param(2)\n",
      "{'z': 0.09793890840555515, 't0': 58254.23935834847, 'ra': 271.1850615336316, 'dec': 33.5132911294908, 'x0': 0.00041149597275357897, 'x1': -0.137766462239143, 'c': 0.002391247715833312, 'mwebv': 0.06205026114166769, 'mwebv_sfd98': 0.04530093592073473}\n",
      "\n",
      "Redshifts of all SNe (after popping the 3rd SN): [0.09803075 0.09349302 0.07799387 0.08174144]\n"
     ]
    }
   ],
   "source": [
    "print(\"Redshifts of all SNe (before):\", tr.zcmb)\n",
    "print()\n",
    "print(\"Pop 3rd SNe - tr.pop_lc_param(2)\")\n",
    "param = tr.pop_lc_param(2)\n",
    "print(param)\n",
    "print()\n",
    "print(\"Redshifts of all SNe (after popping the 3rd SN):\", tr.zcmb)"
   ]
  },
  {
   "cell_type": "markdown",
   "metadata": {},
   "source": [
    "### set_lc_param()\n",
    "If you just wish to change a few parameters of a transient, use this function."
   ]
  },
  {
   "cell_type": "code",
   "execution_count": 17,
   "metadata": {},
   "outputs": [
    {
     "name": "stdout",
     "output_type": "stream",
     "text": [
      "3rd SN:\n",
      "{'z': 0.07799386809285375, 't0': 58285.12585648938, 'ra': 274.39420110937675, 'dec': 30.086883121673463, 'x0': 0.0006948633856780484, 'x1': 0.7498817696505224, 'c': -0.035979162162463815, 'mwebv': 0.09570515950469959, 'mwebv_sfd98': 0.10142050542753037}\n",
      "\n",
      "3rd SN with magnification and time delay:\n",
      "{'z': 0.07799386809285375, 't0': 58295.12585648938, 'ra': 274.39420110937675, 'dec': 30.086883121673463, 'x0': 0.006948633856780484, 'x1': 0.7498817696505224, 'c': -0.035979162162463815, 'mwebv': 0.09570515950469959, 'mwebv_sfd98': 0.10142050542753037}\n"
     ]
    }
   ],
   "source": [
    "print('3rd SN:')\n",
    "param = tr.get_lc_param(2)\n",
    "print(param)\n",
    "print()\n",
    "tr.set_lc_param(2, t0=param['t0']+10, x0=param['x0']*10)\n",
    "print('3rd SN with magnification and time delay:')\n",
    "param = tr.get_lc_param(2)\n",
    "print(param)"
   ]
  },
  {
   "cell_type": "markdown",
   "metadata": {},
   "source": [
    "## The simulation should hopefully still run properly"
   ]
  },
  {
   "cell_type": "code",
   "execution_count": 18,
   "metadata": {},
   "outputs": [
    {
     "name": "stdout",
     "output_type": "stream",
     "text": [
      "Determining field IDs for all objects\n"
     ]
    },
    {
     "data": {
      "application/vnd.jupyter.widget-view+json": {
       "model_id": "a4d483aaa86e4b99a9049938412baab9",
       "version_major": 2,
       "version_minor": 0
      },
      "text/plain": [
       "FloatProgress(value=0.0)"
      ]
     },
     "metadata": {},
     "output_type": "display_data"
    },
    {
     "name": "stdout",
     "output_type": "stream",
     "text": [
      "\n",
      "Generating lightcurves\n"
     ]
    },
    {
     "data": {
      "application/vnd.jupyter.widget-view+json": {
       "model_id": "ac91ba3031554474acb9a91b161d537f",
       "version_major": 2,
       "version_minor": 0
      },
      "text/plain": [
       "FloatProgress(value=0.0)"
      ]
     },
     "metadata": {},
     "output_type": "display_data"
    },
    {
     "name": "stdout",
     "output_type": "stream",
     "text": [
      "\n",
      "4 3\n"
     ]
    }
   ],
   "source": [
    "survey = simsurvey.SimulSurvey(generator=tr, plan=plan)\n",
    "\n",
    "lcs = survey.get_lightcurves(\n",
    "    progress_bar=True, notebook=True # If you get an error because of the progress_bar, delete this line.\n",
    ")\n",
    "print(tr.ntransient, len(lcs.lcs))"
   ]
  },
  {
   "cell_type": "code",
   "execution_count": null,
   "metadata": {},
   "outputs": [],
   "source": []
  },
  {
   "cell_type": "code",
   "execution_count": null,
   "metadata": {},
   "outputs": [],
   "source": []
  },
  {
   "cell_type": "code",
   "execution_count": null,
   "metadata": {},
   "outputs": [],
   "source": []
  }
 ],
 "metadata": {
  "anaconda-cloud": {},
  "kernelspec": {
   "display_name": "Python 3",
   "language": "python",
   "name": "python3"
  },
  "language_info": {
   "codemirror_mode": {
    "name": "ipython",
    "version": 3
   },
   "file_extension": ".py",
   "mimetype": "text/x-python",
   "name": "python",
   "nbconvert_exporter": "python",
   "pygments_lexer": "ipython3",
   "version": "3.7.7"
  }
 },
 "nbformat": 4,
 "nbformat_minor": 1
}
